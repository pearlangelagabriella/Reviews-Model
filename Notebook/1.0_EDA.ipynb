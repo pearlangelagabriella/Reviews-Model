{
 "cells": [
  {
   "cell_type": "code",
   "execution_count": null,
   "metadata": {},
   "outputs": [],
   "source": [
    "import pandas as pd"
   ]
  },
  {
   "cell_type": "code",
   "execution_count": 4,
   "metadata": {},
   "outputs": [
    {
     "data": {
      "text/html": [
       "<div>\n",
       "<style scoped>\n",
       "    .dataframe tbody tr th:only-of-type {\n",
       "        vertical-align: middle;\n",
       "    }\n",
       "\n",
       "    .dataframe tbody tr th {\n",
       "        vertical-align: top;\n",
       "    }\n",
       "\n",
       "    .dataframe thead th {\n",
       "        text-align: right;\n",
       "    }\n",
       "</style>\n",
       "<table border=\"1\" class=\"dataframe\">\n",
       "  <thead>\n",
       "    <tr style=\"text-align: right;\">\n",
       "      <th></th>\n",
       "      <th>rating</th>\n",
       "      <th>review_text</th>\n",
       "    </tr>\n",
       "  </thead>\n",
       "  <tbody>\n",
       "    <tr>\n",
       "      <th>0</th>\n",
       "      <td>5</td>\n",
       "      <td>I absolutely L-O-V-E this oil. I have acne pro...</td>\n",
       "    </tr>\n",
       "    <tr>\n",
       "      <th>1</th>\n",
       "      <td>3</td>\n",
       "      <td>I gave this 3 stars because it give me tiny li...</td>\n",
       "    </tr>\n",
       "    <tr>\n",
       "      <th>2</th>\n",
       "      <td>5</td>\n",
       "      <td>Works well as soon as I wash my face and pat d...</td>\n",
       "    </tr>\n",
       "    <tr>\n",
       "      <th>3</th>\n",
       "      <td>5</td>\n",
       "      <td>this oil helped with hydration and breakouts, ...</td>\n",
       "    </tr>\n",
       "    <tr>\n",
       "      <th>4</th>\n",
       "      <td>5</td>\n",
       "      <td>This is my first product review ever so that s...</td>\n",
       "    </tr>\n",
       "    <tr>\n",
       "      <th>...</th>\n",
       "      <td>...</td>\n",
       "      <td>...</td>\n",
       "    </tr>\n",
       "    <tr>\n",
       "      <th>49972</th>\n",
       "      <td>5</td>\n",
       "      <td>Consider salicylic acid your secret weapon for...</td>\n",
       "    </tr>\n",
       "    <tr>\n",
       "      <th>49973</th>\n",
       "      <td>5</td>\n",
       "      <td>I’ve been using this as my only moisturizer fo...</td>\n",
       "    </tr>\n",
       "    <tr>\n",
       "      <th>49974</th>\n",
       "      <td>5</td>\n",
       "      <td>I got breakouts whenever it’s my time of month...</td>\n",
       "    </tr>\n",
       "    <tr>\n",
       "      <th>49975</th>\n",
       "      <td>5</td>\n",
       "      <td>I love this!!! I don’t get actual acne just an...</td>\n",
       "    </tr>\n",
       "    <tr>\n",
       "      <th>49976</th>\n",
       "      <td>5</td>\n",
       "      <td>I have never tried anything from StriVectin bu...</td>\n",
       "    </tr>\n",
       "  </tbody>\n",
       "</table>\n",
       "<p>49977 rows × 2 columns</p>\n",
       "</div>"
      ],
      "text/plain": [
       "       rating                                        review_text\n",
       "0           5  I absolutely L-O-V-E this oil. I have acne pro...\n",
       "1           3  I gave this 3 stars because it give me tiny li...\n",
       "2           5  Works well as soon as I wash my face and pat d...\n",
       "3           5  this oil helped with hydration and breakouts, ...\n",
       "4           5  This is my first product review ever so that s...\n",
       "...       ...                                                ...\n",
       "49972       5  Consider salicylic acid your secret weapon for...\n",
       "49973       5  I’ve been using this as my only moisturizer fo...\n",
       "49974       5  I got breakouts whenever it’s my time of month...\n",
       "49975       5  I love this!!! I don’t get actual acne just an...\n",
       "49976       5  I have never tried anything from StriVectin bu...\n",
       "\n",
       "[49977 rows x 2 columns]"
      ]
     },
     "execution_count": 4,
     "metadata": {},
     "output_type": "execute_result"
    }
   ],
   "source": [
    "df = pd.read_csv(\"../data/Lotus Balancing & Hydrating Natural Face Treatment Oil Reviews:Rating.csv.crdownload.csv\")\n",
    "df"
   ]
  },
  {
   "cell_type": "code",
   "execution_count": 6,
   "metadata": {},
   "outputs": [],
   "source": [
    "X = df[\"review_text\"]\n",
    "y = df[\"rating\"]"
   ]
  },
  {
   "cell_type": "code",
   "execution_count": 33,
   "metadata": {},
   "outputs": [
    {
     "name": "stderr",
     "output_type": "stream",
     "text": [
      "[nltk_data] Downloading package punkt_tab to\n",
      "[nltk_data]     /Users/pearly/nltk_data...\n",
      "[nltk_data]   Package punkt_tab is already up-to-date!\n",
      "[nltk_data] Downloading package stopwords to\n",
      "[nltk_data]     /Users/pearly/nltk_data...\n",
      "[nltk_data]   Package stopwords is already up-to-date!\n",
      "[nltk_data] Downloading package wordnet to /Users/pearly/nltk_data...\n",
      "[nltk_data]   Package wordnet is already up-to-date!\n"
     ]
    }
   ],
   "source": [
    "import re\n",
    "import pandas as pd \n",
    "import nltk\n",
    "from nltk.corpus import stopwords \n",
    "from nltk.tokenize import word_tokenize \n",
    "from nltk.stem import PorterStemmer \n",
    "from nltk.stem.wordnet import WordNetLemmatizer\n",
    "import re\n",
    "from sklearn.model_selection import train_test_split\n",
    "import pickle\n",
    "\n",
    "nltk.download('punkt_tab')\n",
    "nltk.download('stopwords')\n",
    "nltk.download('wordnet')\n",
    "\n",
    "def preprocess_text(input_text, use_stemming=True, use_lemmatization=True):\n",
    "\n",
    "    # Convert to lowercase\n",
    "    preprocessed_text = input_text.lower ()\n",
    "\n",
    "    # Remove punctuation\n",
    "    preprocessed_text = re.sub(r'[^\\w\\s]', '', preprocessed_text)\n",
    "                               \n",
    "    # Remove stopwords\n",
    "    stop_words = set(stopwords.words('english'))\n",
    "    word_tokens = word_tokenize(preprocessed_text)\n",
    "    filtered_words = [word for word in word_tokens if word not in stop_words]\n",
    "\n",
    "    # Initialize stemmer and lemmatizer\n",
    "    stemmer = PorterStemmer()\n",
    "    lemmatizer = WordNetLemmatizer()\n",
    "    \n",
    "    # Optionally apply stemming and lemmatization\n",
    "    if use_stemming:\n",
    "        filtered_words = [stemmer.stem(word) for word in filtered_words]\n",
    "    if use_lemmatization:\n",
    "        filtered_words = [lemmatizer.lemmatize(word) for word in filtered_words]\n",
    "    \n",
    "    preprocessed_text = ' '.join(filtered_words)\n",
    "    \n",
    "    return preprocessed_text"
   ]
  },
  {
   "cell_type": "code",
   "execution_count": null,
   "metadata": {},
   "outputs": [
    {
     "data": {
      "text/plain": [
       "'need pre_precess smallsign pearl'"
      ]
     },
     "execution_count": 34,
     "metadata": {},
     "output_type": "execute_result"
    }
   ],
   "source": [
    "preprocess_text (\"This WHAT I need you to pre_process and have choices. IT is smallsigns @PEARL\")"
   ]
  }
 ],
 "metadata": {
  "kernelspec": {
   "display_name": "Python 3",
   "language": "python",
   "name": "python3"
  },
  "language_info": {
   "codemirror_mode": {
    "name": "ipython",
    "version": 3
   },
   "file_extension": ".py",
   "mimetype": "text/x-python",
   "name": "python",
   "nbconvert_exporter": "python",
   "pygments_lexer": "ipython3",
   "version": "3.9.6"
  },
  "orig_nbformat": 4
 },
 "nbformat": 4,
 "nbformat_minor": 2
}
